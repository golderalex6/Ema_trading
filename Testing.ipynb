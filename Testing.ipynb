{
 "cells": [
  {
   "cell_type": "code",
   "execution_count": 2,
   "metadata": {},
   "outputs": [],
   "source": [
    "from IMPORT import *"
   ]
  },
  {
   "cell_type": "markdown",
   "metadata": {},
   "source": [
    "<h1>Reserve version</h1>"
   ]
  },
  {
   "cell_type": "code",
   "execution_count": null,
   "metadata": {},
   "outputs": [],
   "source": [
    "from IMPORT import *\n",
    "\n",
    "#-----------Parameter\n",
    "ema_fast=7\n",
    "ema_slow=70\n",
    "symbol='ETHUSDT'\n",
    "timeframe='1m'\n",
    "type='Close'\n",
    "balance=100\n",
    "#-----------Parameter\n",
    "\n",
    "#-----------Normal setup\n",
    "api_key=os.getenv('api_key_test')\n",
    "secret=os.getenv('secret_test')\n",
    "sheet_id='1Wp4cpdJpK3LKhI9Cf0_iRxJMzZ08YbdGaOlukZzgZLE'\n",
    "\n",
    "tf_to_sec={\n",
    "    '1m':60,\n",
    "    '3m':180,\n",
    "    '5m':300,\n",
    "    '15m':900,\n",
    "    '30m':1800,\n",
    "    '1h':3600,\n",
    "    '2h':7200,\n",
    "    '4h':14400,\n",
    "    '6h':21600,\n",
    "    '8h':28800,\n",
    "    '12h':43200,\n",
    "    '1d':86400\n",
    "}\n",
    "col=np.array(['1m','3m','5m','15m','30m','1h','2h','4h','6h','8h','12h','1d'])\n",
    "col_index_start=np.array(['B2','C2','D2','E2','F2','G2','H2','I2','J2','K2','L2','M2'])\n",
    "only_value_start=np.array(['B4','C4','D4','E4','F4','G4','H4','I4','J4','K4','L4','M4'])\n",
    "col_index_end=np.array(['B103','C103','D103','E103','F103','G103','H103','I103','J103','K103','L103','M103'])\n",
    "\n",
    "exchange_id = 'binance'\n",
    "exchange_class = getattr(ccxt, exchange_id)\n",
    "exchange = exchange_class({\n",
    "    'apiKey': api_key,\n",
    "    'secret': secret,\n",
    "})\n",
    "exchange.set_sandbox_mode(True)\n",
    "#-----------Normal setup\n",
    "\n",
    "#-----------Function\n",
    "def handle_ohlvc(raw):\n",
    "    #convert raw data crawled from binance to dataframe pandas for easy process\n",
    "\n",
    "    df=pd.DataFrame(raw,columns=['Timestamp','Open','High','Low','Close','Volume'])\n",
    "    df['Date']=df['Timestamp'].map(lambda x:dt.datetime.strftime(dt.datetime.fromtimestamp(x/1000),'%Y/%m/%d %H:%M:%S'))\n",
    "\n",
    "    return df\n",
    "\n",
    "def calculate_delay_time():\n",
    "    #check time gap from the last turn off untill now\n",
    "\n",
    "    last=np.array(sheet.read_value_spreadsheets(sheet_id,'Ema_val!B3:M3')[0],dtype='int64')/1000\n",
    "    now=np.array([dt.datetime.now().timestamp()]*len(col))\n",
    "    time=np.array(list(tf_to_sec.values()))*2 #we multiply by 2 because we backward 1 timeframe so we have to calculate the timeframe today plus yesterday\n",
    "    filter=(now-last)/time>1\n",
    "\n",
    "    delay_timeframe=np.array(list(tf_to_sec.keys()))[filter]\n",
    "    start=col_index_start[filter]\n",
    "    end=col_index_end[filter]\n",
    "\n",
    "    return [delay_timeframe,[start,end]]\n",
    "\n",
    "def update_delay_time():\n",
    "    #update the new value for Ema after the gap time (or run for the first time when the sheet is clean)\n",
    "    \n",
    "    try:\n",
    "        delay_timeframe,delay_index=calculate_delay_time()\n",
    "        start=delay_index[0]\n",
    "        end=delay_index[1]\n",
    "        if len(start)==0:\n",
    "            print('Nothing to update !!')\n",
    "            return\n",
    "        start=start[0]\n",
    "        end=end[-1]\n",
    "    except:\n",
    "        delay_timeframe=col\n",
    "        start=col_index_start[0]\n",
    "        end=col_index_end[-1]\n",
    "    \n",
    "    price=[]\n",
    "    date=[]\n",
    "    timestamp=[]\n",
    "\n",
    "    for i in delay_timeframe:\n",
    "        get=handle_ohlvc(exchange.fetch_ohlcv(symbol,i,limit=2))\n",
    "        price.append(get[type].values[0])\n",
    "        date.append(get['Date'].values[0])\n",
    "        timestamp.append(int(get['Timestamp'].values[0]))\n",
    "    \n",
    "    data=[price for i in range(100)]\n",
    "    data.insert(0,timestamp)\n",
    "    data.insert(0,date)\n",
    "    \n",
    "    sheet.write_value_spreadsheets(sheet_id,f'Ema_val!{start}:{end}',data)\n",
    "    print('Updated done !!','Updated timeframe :',delay_timeframe)\n",
    "\n",
    "\n",
    "def Ema(tf,new_price,fast=7,slow=70):\n",
    "    #calculate Ema value and write to google sheet\n",
    "\n",
    "    k=np.array([1.        , 0.66666667, 0.5       , 0.4       ,0.33333333,\n",
    "       0.28571429, 0.25      , 0.22222222, 0.2       , 0.18181818,\n",
    "       0.16666667, 0.15384615, 0.14285714, 0.13333333, 0.125     ,\n",
    "       0.11764706, 0.11111111, 0.10526316, 0.1       , 0.0952381 ,\n",
    "       0.09090909, 0.08695652, 0.08333333, 0.08      , 0.07692308,\n",
    "       0.07407407, 0.07142857, 0.06896552, 0.06666667, 0.06451613,\n",
    "       0.0625    , 0.06060606, 0.05882353, 0.05714286, 0.05555556,\n",
    "       0.05405405, 0.05263158, 0.05128205, 0.05      , 0.04878049,\n",
    "       0.04761905, 0.04651163, 0.04545455, 0.04444444, 0.04347826,\n",
    "       0.04255319, 0.04166667, 0.04081633, 0.04      , 0.03921569,\n",
    "       0.03846154, 0.03773585, 0.03703704, 0.03636364, 0.03571429,\n",
    "       0.03508772, 0.03448276, 0.03389831, 0.03333333, 0.03278689,\n",
    "       0.03225806, 0.03174603, 0.03125   , 0.03076923, 0.03030303,\n",
    "       0.02985075, 0.02941176, 0.02898551, 0.02857143, 0.02816901,\n",
    "       0.02777778, 0.02739726, 0.02702703, 0.02666667, 0.02631579,\n",
    "       0.02597403, 0.02564103, 0.02531646, 0.025     , 0.02469136,\n",
    "       0.02439024, 0.02409639, 0.02380952, 0.02352941, 0.02325581,\n",
    "       0.02298851, 0.02272727, 0.02247191, 0.02222222, 0.02197802,\n",
    "       0.02173913, 0.02150538, 0.0212766 , 0.02105263, 0.02083333,\n",
    "       0.02061856, 0.02040816, 0.02020202, 0.02      , 0.01980198])\n",
    "    \n",
    "    start=only_value_start[col==timeframe][0]\n",
    "    end=col_index_end[col==timeframe][0]\n",
    "    \n",
    "    old_ema_raw=sheet.read_value_spreadsheets(sheet_id,f'Ema_val!{start}:{end}')\n",
    "    old_ema=np.array(list(map(lambda x:x[0].replace(',','.'),old_ema_raw)),dtype='float')\n",
    "\n",
    "    new_ema=k*new_price+(1-k)*old_ema\n",
    "    data=new_ema.reshape((-1,1)).tolist()\n",
    "    \n",
    "    sheet.write_value_spreadsheets(sheet_id,f'Ema_val!{start}:{end}',data)\n",
    "    \n",
    "    return [\n",
    "        [old_ema[fast],new_ema[fast]],\n",
    "        [old_ema[slow],new_ema[slow]]\n",
    "    ]\n",
    "\n",
    "def round_time(tf):\n",
    "    #wait to the nearest time frame\n",
    "\n",
    "    sec=tf_to_sec[tf]\n",
    "    standard_time=dt.datetime(2024,1,1,7,0).timestamp()\n",
    "    n=dt.datetime.now().timestamp()\n",
    "\n",
    "    if (int(n)-standard_time)%sec==0:\n",
    "        print(dt.datetime.strftime(dt.datetime.now(),'%Y/%m/%d %H:%M:%S'))\n",
    "        return\n",
    "    gap=ceil((n-standard_time)/sec)*sec-(n-standard_time)\n",
    "    sleep(gap)\n",
    "    print(dt.datetime.strftime(dt.datetime.now(),'%Y/%m/%d %H:%M:%S'))\n",
    "\n",
    "def cross_over(fast,slow):\n",
    "    #check if the fast ema is cross over the slow one\n",
    "\n",
    "    if fast[0]<=slow[0] and fast[1]>slow[1]:\n",
    "        return True\n",
    "    else:\n",
    "        return False\n",
    "\n",
    "def cross_under(fast,slow):\n",
    "    #check if the fast ema is cross under the slow one\n",
    "\n",
    "    if fast[0]>=slow[0] and fast[1]<slow[1]:\n",
    "        return True\n",
    "    else:\n",
    "        return False\n",
    "\n",
    "def trading_log():\n",
    "    #write\n",
    "    pass\n",
    "\n",
    "\n",
    "\n",
    "def main()->None:\n",
    "    #run the trading application\n",
    "\n",
    "    first_procedure=False\n",
    "    while True:\n",
    "        if not first_procedure:\n",
    "            update_delay_time()\n",
    "            round_time(timeframe)\n",
    "            first_procedure=True\n",
    "        \n",
    "        price=handle_ohlvc(exchange.fetch_ohlcv(symbol,timeframe,limit=2))[type].values[0]\n",
    "        fast,slow=Ema(timeframe,price,ema_fast,ema_slow)\n",
    "        \n",
    "        now=dt.datetime.strftime(dt.datetime.now(),'%Y/%m/%d %H:%M:%S')\n",
    "        traded=False\n",
    "        if cross_over(fast,slow):\n",
    "            print(now,'Buy')\n",
    "            traded=True\n",
    "        if cross_under(fast,slow):\n",
    "            print(now,'Sell')\n",
    "            traded=True\n",
    "        if traded==False:\n",
    "            print(now,'Waiting ...')\n",
    "        \n",
    "        round_time(timeframe)\n",
    "#-----------Function\n",
    "\n",
    "if __name__=='__main__':\n",
    "    main()"
   ]
  },
  {
   "cell_type": "code",
   "execution_count": 10,
   "metadata": {},
   "outputs": [],
   "source": [
    "def handle_ohlvc(raw):\n",
    "    df=pd.DataFrame(raw,columns=['Timestamp','Open','High','Low','Close','Volume'])\n",
    "    df['Date']=df['Timestamp'].map(lambda x:dt.datetime.strftime(dt.datetime.fromtimestamp(x/1000),'%Y/%m/%d %H:%M:%S'))\n",
    "    return df"
   ]
  },
  {
   "cell_type": "code",
   "execution_count": 26,
   "metadata": {},
   "outputs": [],
   "source": [
    "exchange_id = 'binance'\n",
    "exchange_class = getattr(ccxt, exchange_id)\n",
    "exchange = exchange_class({\n",
    "    'apiKey': api_key,\n",
    "    'secret': secret,\n",
    "})\n",
    "exchange.set_sandbox_mode(True)"
   ]
  },
  {
   "cell_type": "code",
   "execution_count": 143,
   "metadata": {},
   "outputs": [
    {
     "data": {
      "text/plain": [
       "3347.64"
      ]
     },
     "execution_count": 143,
     "metadata": {},
     "output_type": "execute_result"
    }
   ],
   "source": [
    "handle_ohlvc(exchange.fetch_ohlcv(symbol,'1h',limit=2))[type].values[0]"
   ]
  },
  {
   "cell_type": "code",
   "execution_count": 2,
   "metadata": {},
   "outputs": [],
   "source": [
    "client=UMFutures(PARA.api_key,PARA.secret,base_url=PARA.base_url)"
   ]
  },
  {
   "cell_type": "code",
   "execution_count": 27,
   "metadata": {},
   "outputs": [
    {
     "data": {
      "text/plain": [
       "[1711692360000, '72600.00', '72666.00', '71605.00', '72666.00', '13.028']"
      ]
     },
     "execution_count": 27,
     "metadata": {},
     "output_type": "execute_result"
    }
   ],
   "source": [
    "client.continuous_klines(pair=PARA.symbol,contractType='PERPETUAL',interval=PARA.timeframe,limit=2)[0][:6]"
   ]
  },
  {
   "cell_type": "code",
   "execution_count": 22,
   "metadata": {},
   "outputs": [
    {
     "data": {
      "text/html": [
       "<div>\n",
       "<style scoped>\n",
       "    .dataframe tbody tr th:only-of-type {\n",
       "        vertical-align: middle;\n",
       "    }\n",
       "\n",
       "    .dataframe tbody tr th {\n",
       "        vertical-align: top;\n",
       "    }\n",
       "\n",
       "    .dataframe thead th {\n",
       "        text-align: right;\n",
       "    }\n",
       "</style>\n",
       "<table border=\"1\" class=\"dataframe\">\n",
       "  <thead>\n",
       "    <tr style=\"text-align: right;\">\n",
       "      <th></th>\n",
       "      <th>Timestamp</th>\n",
       "      <th>Open</th>\n",
       "      <th>High</th>\n",
       "      <th>Low</th>\n",
       "      <th>Close</th>\n",
       "      <th>Volume</th>\n",
       "      <th>Date</th>\n",
       "    </tr>\n",
       "    <tr>\n",
       "      <th>Date</th>\n",
       "      <th></th>\n",
       "      <th></th>\n",
       "      <th></th>\n",
       "      <th></th>\n",
       "      <th></th>\n",
       "      <th></th>\n",
       "      <th></th>\n",
       "    </tr>\n",
       "  </thead>\n",
       "  <tbody>\n",
       "    <tr>\n",
       "      <th>2024-03-23 13:27:00</th>\n",
       "      <td>1711175220000</td>\n",
       "      <td>3330.56</td>\n",
       "      <td>3330.87</td>\n",
       "      <td>3330.56</td>\n",
       "      <td>3330.87</td>\n",
       "      <td>0.389</td>\n",
       "      <td>2024-03-23 13:27:00</td>\n",
       "    </tr>\n",
       "  </tbody>\n",
       "</table>\n",
       "</div>"
      ],
      "text/plain": [
       "                         Timestamp     Open     High      Low    Close  \\\n",
       "Date                                                                     \n",
       "2024-03-23 13:27:00  1711175220000  3330.56  3330.87  3330.56  3330.87   \n",
       "\n",
       "                     Volume                Date  \n",
       "Date                                             \n",
       "2024-03-23 13:27:00   0.389 2024-03-23 13:27:00  "
      ]
     },
     "execution_count": 22,
     "metadata": {},
     "output_type": "execute_result"
    }
   ],
   "source": [
    "start=dt.datetime.now().timestamp()\n",
    "u=exchange.fetch_ohlcv('ETHUSDT',timeframe='1m',limit=1)\n",
    "handle_ohlvc(u)"
   ]
  },
  {
   "cell_type": "code",
   "execution_count": 20,
   "metadata": {},
   "outputs": [
    {
     "data": {
      "text/plain": [
       "3367.8"
      ]
     },
     "execution_count": 20,
     "metadata": {},
     "output_type": "execute_result"
    }
   ],
   "source": [
    "handle_ohlvc(exchange.fetch_ohlcv(symbol,timeframe,limit=2))[type].values[0]"
   ]
  },
  {
   "cell_type": "code",
   "execution_count": 15,
   "metadata": {},
   "outputs": [
    {
     "data": {
      "text/plain": [
       "array([[1.5],\n",
       "       [2.5],\n",
       "       [3.5]])"
      ]
     },
     "execution_count": 15,
     "metadata": {},
     "output_type": "execute_result"
    }
   ],
   "source": [
    "m=pd.DataFrame({'a':[1,2,3],'b':[2,3,4]}).to_numpy()\n",
    "v=pd.DataFrame({'j':[1.5,2.5,3.5]}).to_numpy()\n",
    "v"
   ]
  },
  {
   "cell_type": "code",
   "execution_count": 9,
   "metadata": {},
   "outputs": [
    {
     "data": {
      "text/plain": [
       "('3442.48049382716', '3443.3119744')"
      ]
     },
     "execution_count": 9,
     "metadata": {},
     "output_type": "execute_result"
    }
   ],
   "source": [
    "df=pd.read_csv('D:\\\\Trading\\\\Indicator\\\\Ema.csv',index_col=0)\n",
    "a,b=df.loc[['Ema_2','Ema_4'],timeframe].values\n",
    "a,b"
   ]
  },
  {
   "cell_type": "code",
   "execution_count": 5,
   "metadata": {},
   "outputs": [],
   "source": [
    "minute=int(dt.datetime(2024,1,1,7,0).timestamp()/60)"
   ]
  },
  {
   "cell_type": "code",
   "execution_count": 8,
   "metadata": {},
   "outputs": [
    {
     "data": {
      "text/plain": [
       "2"
      ]
     },
     "execution_count": 8,
     "metadata": {},
     "output_type": "execute_result"
    }
   ],
   "source": [
    "int(dt.datetime.now().timestamp()/60)"
   ]
  },
  {
   "cell_type": "code",
   "execution_count": 4,
   "metadata": {},
   "outputs": [
    {
     "data": {
      "text/plain": [
       "{'lastUpdateId': 35710815694,\n",
       " 'E': 1711793918759,\n",
       " 'T': 1711793918727,\n",
       " 'bids': [['70400.00', '2.038'],\n",
       "  ['70311.30', '0.104'],\n",
       "  ['70004.00', '11.093'],\n",
       "  ['70003.50', '297.694'],\n",
       "  ['70003.40', '8.723']],\n",
       " 'asks': [['70998.90', '21.188'],\n",
       "  ['70999.00', '8.943'],\n",
       "  ['70999.80', '450.000'],\n",
       "  ['70999.90', '15.345'],\n",
       "  ['71024.70', '2.251']]}"
      ]
     },
     "execution_count": 4,
     "metadata": {},
     "output_type": "execute_result"
    }
   ],
   "source": [
    "client = UMFutures(PARA.api_key,PARA.secret,base_url=PARA.base_url)\n",
    "client.change_leverage(PARA.symbol,1)\n",
    "client.depth(PARA.symbol,limit=5)"
   ]
  }
 ],
 "metadata": {
  "kernelspec": {
   "display_name": "Python 3",
   "language": "python",
   "name": "python3"
  },
  "language_info": {
   "codemirror_mode": {
    "name": "ipython",
    "version": 3
   },
   "file_extension": ".py",
   "mimetype": "text/x-python",
   "name": "python",
   "nbconvert_exporter": "python",
   "pygments_lexer": "ipython3",
   "version": "3.10.11"
  }
 },
 "nbformat": 4,
 "nbformat_minor": 2
}
