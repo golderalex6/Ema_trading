{
 "cells": [
  {
   "cell_type": "code",
   "execution_count": 83,
   "metadata": {},
   "outputs": [],
   "source": [
    "import ccxt\n",
    "import numpy as np\n",
    "import datetime as dt\n",
    "import pandas as pd\n",
    "import GOOGLE_SPREADSHEET as sheet\n",
    "from time import sleep\n",
    "from dotenv import load_dotenv\n",
    "import os\n",
    "load_dotenv()\n",
    "\n",
    "api_key=os.getenv('api_key')\n",
    "secret=os.getenv('secret')\n",
    "\n",
    "standard_time=dt.datetime(2024,1,1,7,0).timestamp()\n",
    "support_timeframe=['1m','3m','5m','15m','30m','1h','2h','4h','6h','8h','12h','1d']\n",
    "\n",
    "timeframe={\n",
    "    '1m':60,\n",
    "    '3m':180,\n",
    "    '5m':300,\n",
    "    '15m':900,\n",
    "    '30m':1800,\n",
    "    '1h':3600,\n",
    "    '2h':7200,\n",
    "    '4h':14400,\n",
    "    '6h':21600,\n",
    "    '8h':28800,\n",
    "    '12h':43200,\n",
    "    '1d':86400\n",
    "    }\n",
    "col_index=np.array(['B3','C3','D3','E3','F3','G3','H3','I3','J3','K3','L3','M3'])"
   ]
  },
  {
   "cell_type": "code",
   "execution_count": 64,
   "metadata": {},
   "outputs": [
    {
     "data": {
      "text/plain": [
       "'{\\n  \"spreadsheetId\": \"1Wp4cpdJpK3LKhI9Cf0_iRxJMzZ08YbdGaOlukZzgZLE\",\\n  \"totalUpdatedRows\": 1,\\n  \"totalUpdatedColumns\": 12,\\n  \"totalUpdatedCells\": 12,\\n  \"totalUpdatedSheets\": 1,\\n  \"responses\": [\\n    {\\n      \"spreadsheetId\": \"1Wp4cpdJpK3LKhI9Cf0_iRxJMzZ08YbdGaOlukZzgZLE\",\\n      \"updatedRange\": \"Ema_val!B3:M3\",\\n      \"updatedRows\": 1,\\n      \"updatedColumns\": 12,\\n      \"updatedCells\": 12\\n    }\\n  ]\\n}\\n'"
      ]
     },
     "execution_count": 64,
     "metadata": {},
     "output_type": "execute_result"
    }
   ],
   "source": [
    "sheet_id='1Wp4cpdJpK3LKhI9Cf0_iRxJMzZ08YbdGaOlukZzgZLE'\n",
    "sheet.write_value_spreadsheets(sheet_id,'Ema_val!B3:M3',[[dt.datetime.now().timestamp()-1000]*12])"
   ]
  },
  {
   "cell_type": "code",
   "execution_count": 85,
   "metadata": {},
   "outputs": [
    {
     "data": {
      "text/plain": [
       "[array(['1m', '3m', '5m', '15m', '30m'], dtype='<U3'),\n",
       " array(['B3', 'C3', 'D3', 'E3', 'F3'], dtype='<U2')]"
      ]
     },
     "execution_count": 85,
     "metadata": {},
     "output_type": "execute_result"
    }
   ],
   "source": [
    "def calculate_delay_time():\n",
    "    last=np.array(sheet.read_value_spreadsheets(sheet_id,'Ema_val!B3:M3')[0],dtype='int64')\n",
    "    now=np.array([dt.datetime.now().timestamp()]*12)\n",
    "    time=np.array(list(timeframe.values()))\n",
    "    filter=(now-last)/time>1\n",
    "    return [np.array(list(timeframe.keys()))[filter],col_index[filter]]\n",
    "calculate_delay_time()\n"
   ]
  },
  {
   "cell_type": "code",
   "execution_count": 54,
   "metadata": {},
   "outputs": [
    {
     "data": {
      "text/plain": [
       "1711179115.800908"
      ]
     },
     "execution_count": 54,
     "metadata": {},
     "output_type": "execute_result"
    }
   ],
   "source": [
    "dt.datetime.now().timestamp()"
   ]
  },
  {
   "cell_type": "code",
   "execution_count": null,
   "metadata": {},
   "outputs": [],
   "source": [
    "exchange_id = 'binance'\n",
    "exchange_class = getattr(ccxt, exchange_id)\n",
    "exchange = exchange_class({\n",
    "    'apiKey': api_key,\n",
    "    'secret': secret,\n",
    "})\n",
    "exchange.set_sandbox_mode(True)"
   ]
  },
  {
   "cell_type": "code",
   "execution_count": null,
   "metadata": {},
   "outputs": [],
   "source": [
    "#PARAMETER\n",
    "ema_fast=7\n",
    "ema_slow=70\n",
    "symbol='ETHUSDT'\n",
    "timeframe='15m'\n"
   ]
  },
  {
   "cell_type": "code",
   "execution_count": null,
   "metadata": {},
   "outputs": [],
   "source": [
    "def handle_ohlvc(raw):\n",
    "    df=pd.DataFrame(raw,columns=['Timestamp','Open','High','Low','Close','Volume'])\n",
    "    df['Date']=df['Timestamp'].map(lambda x:dt.datetime.fromtimestamp(x/1000))\n",
    "\n",
    "    return df"
   ]
  },
  {
   "cell_type": "code",
   "execution_count": null,
   "metadata": {},
   "outputs": [],
   "source": [
    "def Ema(l,symbol,timeframe,type='Close'):\n",
    "    price=handle_ohlvc(exchange.fetch_ohlcv(symbol,timeframe,limit=l))[type]\n",
    "    init=price.sum()/l\n",
    "    rate=np.array([2/(i+1) for i in range(1,101)])"
   ]
  },
  {
   "cell_type": "code",
   "execution_count": 8,
   "metadata": {},
   "outputs": [],
   "source": [
    "\n",
    "time={\n",
    "    '1m':60,\n",
    "    '3m':180,\n",
    "    '5m':300,\n",
    "    '15m':900,\n",
    "    '30m':1800,\n",
    "    '1h':3600,\n",
    "    '2h':7200,\n",
    "    '4h':14400,\n",
    "    '6h':21600,\n",
    "    '8h':28800,\n",
    "    '12h':43200,\n",
    "    '1d':86400\n",
    "    }"
   ]
  },
  {
   "cell_type": "code",
   "execution_count": 22,
   "metadata": {},
   "outputs": [
    {
     "data": {
      "text/html": [
       "<div>\n",
       "<style scoped>\n",
       "    .dataframe tbody tr th:only-of-type {\n",
       "        vertical-align: middle;\n",
       "    }\n",
       "\n",
       "    .dataframe tbody tr th {\n",
       "        vertical-align: top;\n",
       "    }\n",
       "\n",
       "    .dataframe thead th {\n",
       "        text-align: right;\n",
       "    }\n",
       "</style>\n",
       "<table border=\"1\" class=\"dataframe\">\n",
       "  <thead>\n",
       "    <tr style=\"text-align: right;\">\n",
       "      <th></th>\n",
       "      <th>Timestamp</th>\n",
       "      <th>Open</th>\n",
       "      <th>High</th>\n",
       "      <th>Low</th>\n",
       "      <th>Close</th>\n",
       "      <th>Volume</th>\n",
       "      <th>Date</th>\n",
       "    </tr>\n",
       "    <tr>\n",
       "      <th>Date</th>\n",
       "      <th></th>\n",
       "      <th></th>\n",
       "      <th></th>\n",
       "      <th></th>\n",
       "      <th></th>\n",
       "      <th></th>\n",
       "      <th></th>\n",
       "    </tr>\n",
       "  </thead>\n",
       "  <tbody>\n",
       "    <tr>\n",
       "      <th>2024-03-23 13:27:00</th>\n",
       "      <td>1711175220000</td>\n",
       "      <td>3330.56</td>\n",
       "      <td>3330.87</td>\n",
       "      <td>3330.56</td>\n",
       "      <td>3330.87</td>\n",
       "      <td>0.389</td>\n",
       "      <td>2024-03-23 13:27:00</td>\n",
       "    </tr>\n",
       "  </tbody>\n",
       "</table>\n",
       "</div>"
      ],
      "text/plain": [
       "                         Timestamp     Open     High      Low    Close  \\\n",
       "Date                                                                     \n",
       "2024-03-23 13:27:00  1711175220000  3330.56  3330.87  3330.56  3330.87   \n",
       "\n",
       "                     Volume                Date  \n",
       "Date                                             \n",
       "2024-03-23 13:27:00   0.389 2024-03-23 13:27:00  "
      ]
     },
     "execution_count": 22,
     "metadata": {},
     "output_type": "execute_result"
    }
   ],
   "source": [
    "start=dt.datetime.now().timestamp()\n",
    "u=exchange.fetch_ohlcv('ETHUSDT',timeframe='1m',limit=1)\n",
    "handle_ohlvc(u)"
   ]
  },
  {
   "cell_type": "code",
   "execution_count": 10,
   "metadata": {},
   "outputs": [
    {
     "ename": "KeyboardInterrupt",
     "evalue": "",
     "output_type": "error",
     "traceback": [
      "\u001b[1;31m---------------------------------------------------------------------------\u001b[0m",
      "\u001b[1;31mKeyboardInterrupt\u001b[0m                         Traceback (most recent call last)",
      "Cell \u001b[1;32mIn[10], line 5\u001b[0m\n\u001b[0;32m      3\u001b[0m \u001b[38;5;28;01mwhile\u001b[39;00m \u001b[38;5;28;01mTrue\u001b[39;00m:\n\u001b[0;32m      4\u001b[0m         n\u001b[38;5;241m=\u001b[39mdt\u001b[38;5;241m.\u001b[39mdatetime\u001b[38;5;241m.\u001b[39mnow()\n\u001b[1;32m----> 5\u001b[0m         \u001b[38;5;28;01mif\u001b[39;00m (\u001b[38;5;28;43mint\u001b[39;49m\u001b[43m(\u001b[49m\u001b[43mn\u001b[49m\u001b[38;5;241;43m.\u001b[39;49m\u001b[43mtimestamp\u001b[49m\u001b[43m(\u001b[49m\u001b[43m)\u001b[49m\u001b[43m)\u001b[49m\u001b[38;5;241m-\u001b[39mstandard_time)\u001b[38;5;241m%\u001b[39m\u001b[38;5;241m60\u001b[39m\u001b[38;5;241m==\u001b[39m\u001b[38;5;241m0\u001b[39m:\n\u001b[0;32m      6\u001b[0m             \u001b[38;5;28mprint\u001b[39m(n,n\u001b[38;5;241m.\u001b[39mtimestamp())\n\u001b[0;32m      7\u001b[0m             \u001b[38;5;28;01mbreak\u001b[39;00m\n",
      "\u001b[1;31mKeyboardInterrupt\u001b[0m: "
     ]
    }
   ],
   "source": [
    "standard_time=dt.datetime(2024,1,1,7,0).timestamp()\n",
    "\n",
    "while True:\n",
    "        n=dt.datetime.now()\n",
    "        if (int(n.timestamp())-standard_time)%60==0:\n",
    "            print(n,n.timestamp())\n",
    "            break\n",
    "while True:\n",
    "    sleep(60)\n",
    "    print(dt.datetime.now(),dt.datetime.now().timestamp())\n",
    "    "
   ]
  },
  {
   "cell_type": "code",
   "execution_count": null,
   "metadata": {},
   "outputs": [
    {
     "data": {
      "text/plain": [
       "[]"
      ]
     },
     "execution_count": 6,
     "metadata": {},
     "output_type": "execute_result"
    }
   ],
   "source": [
    "exchange.fetch_open_orders('ETHUSDT')"
   ]
  }
 ],
 "metadata": {
  "kernelspec": {
   "display_name": "Python 3",
   "language": "python",
   "name": "python3"
  },
  "language_info": {
   "codemirror_mode": {
    "name": "ipython",
    "version": 3
   },
   "file_extension": ".py",
   "mimetype": "text/x-python",
   "name": "python",
   "nbconvert_exporter": "python",
   "pygments_lexer": "ipython3",
   "version": "3.10.11"
  }
 },
 "nbformat": 4,
 "nbformat_minor": 2
}
