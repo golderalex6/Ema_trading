{
 "cells": [
  {
   "cell_type": "code",
   "execution_count": 14,
   "metadata": {},
   "outputs": [],
   "source": [
    "import ccxt\n",
    "import numpy as np\n",
    "import datetime as dt\n",
    "import pandas as pd\n",
    "import GOOGLE_SPREADSHEET as sheet\n",
    "from time import sleep\n",
    "from dotenv import load_dotenv\n",
    "import os\n",
    "load_dotenv()\n",
    "\n",
    "api_key=os.getenv('api_key')\n",
    "secret=os.getenv('secret')\n",
    "\n",
    "standard_time=dt.datetime(2024,1,1,7,0).timestamp()\n",
    "support_timeframe=['1m','3m','5m','15m','30m','1h','2h','4h','6h','8h','12h','1d']\n",
    "\n",
    "tf_to_sec={\n",
    "    '1m':60,\n",
    "    '3m':180,\n",
    "    '5m':300,\n",
    "    '15m':900,\n",
    "    '30m':1800,\n",
    "    '1h':3600,\n",
    "    '2h':7200,\n",
    "    '4h':14400,\n",
    "    '6h':21600,\n",
    "    '8h':28800,\n",
    "    '12h':43200,\n",
    "    '1d':86400\n",
    "    }\n",
    "col_index_start=np.array(['B2','C2','D2','E2','F2','G2','H2','I2','J2','K2','L2','M2'])\n",
    "col_index_end=np.array(['B103','C103','D103','E103','F103','G103','H103','I103','J103','K103','L103','M103'])"
   ]
  },
  {
   "cell_type": "code",
   "execution_count": 15,
   "metadata": {},
   "outputs": [],
   "source": [
    "#PARAMETER\n",
    "ema_fast=7\n",
    "ema_slow=70\n",
    "symbol='ETHUSDT'\n",
    "timeframe='15m'\n",
    "type='Close'"
   ]
  },
  {
   "cell_type": "code",
   "execution_count": 64,
   "metadata": {},
   "outputs": [
    {
     "data": {
      "text/plain": [
       "'{\\n  \"spreadsheetId\": \"1Wp4cpdJpK3LKhI9Cf0_iRxJMzZ08YbdGaOlukZzgZLE\",\\n  \"totalUpdatedRows\": 1,\\n  \"totalUpdatedColumns\": 12,\\n  \"totalUpdatedCells\": 12,\\n  \"totalUpdatedSheets\": 1,\\n  \"responses\": [\\n    {\\n      \"spreadsheetId\": \"1Wp4cpdJpK3LKhI9Cf0_iRxJMzZ08YbdGaOlukZzgZLE\",\\n      \"updatedRange\": \"Ema_val!B3:M3\",\\n      \"updatedRows\": 1,\\n      \"updatedColumns\": 12,\\n      \"updatedCells\": 12\\n    }\\n  ]\\n}\\n'"
      ]
     },
     "execution_count": 64,
     "metadata": {},
     "output_type": "execute_result"
    }
   ],
   "source": [
    "sheet_id='1Wp4cpdJpK3LKhI9Cf0_iRxJMzZ08YbdGaOlukZzgZLE'\n",
    "sheet.write_value_spreadsheets(sheet_id,'Ema_val!B3:M3',[[dt.datetime.now().timestamp()-1000]*12])"
   ]
  },
  {
   "cell_type": "code",
   "execution_count": 16,
   "metadata": {},
   "outputs": [],
   "source": [
    "def handle_ohlvc(raw):\n",
    "    df=pd.DataFrame(raw,columns=['Timestamp','Open','High','Low','Close','Volume'])\n",
    "    df['Date']=df['Timestamp'].map(lambda x:dt.datetime.strftime(dt.datetime.fromtimestamp(x/1000),'%Y/%m/%d %H:%M:%S'))\n",
    "\n",
    "    return df"
   ]
  },
  {
   "cell_type": "code",
   "execution_count": 18,
   "metadata": {},
   "outputs": [],
   "source": [
    "exchange_id = 'binance'\n",
    "exchange_class = getattr(ccxt, exchange_id)\n",
    "exchange = exchange_class({\n",
    "    'apiKey': api_key,\n",
    "    'secret': secret,\n",
    "})\n",
    "exchange.set_sandbox_mode(True)"
   ]
  },
  {
   "cell_type": "code",
   "execution_count": 166,
   "metadata": {},
   "outputs": [
    {
     "data": {
      "text/plain": [
       "[array(['1m', '3m', '5m', '15m', '30m', '1h', '2h'], dtype='<U3'),\n",
       " ['B2', 'H103']]"
      ]
     },
     "execution_count": 166,
     "metadata": {},
     "output_type": "execute_result"
    }
   ],
   "source": [
    "def calculate_delay_time():\n",
    "    last=np.array(sheet.read_value_spreadsheets(sheet_id,'Ema_val!B3:M3')[0],dtype='int')\n",
    "    now=np.array([dt.datetime.now().timestamp()]*12)\n",
    "    time=np.array(list(tf_to_sec.values()))\n",
    "    filter=(now-last)/time>1\n",
    "    return [np.array(list(tf_to_sec.keys()))[filter],[col_index_start[filter][0],col_index_end[filter][-1]]]\n",
    "calculate_delay_time()\n"
   ]
  },
  {
   "cell_type": "code",
   "execution_count": 168,
   "metadata": {},
   "outputs": [
    {
     "data": {
      "text/plain": [
       "'{\\n  \"spreadsheetId\": \"1Wp4cpdJpK3LKhI9Cf0_iRxJMzZ08YbdGaOlukZzgZLE\",\\n  \"totalUpdatedRows\": 102,\\n  \"totalUpdatedColumns\": 7,\\n  \"totalUpdatedCells\": 714,\\n  \"totalUpdatedSheets\": 1,\\n  \"responses\": [\\n    {\\n      \"spreadsheetId\": \"1Wp4cpdJpK3LKhI9Cf0_iRxJMzZ08YbdGaOlukZzgZLE\",\\n      \"updatedRange\": \"Ema_val!B2:H103\",\\n      \"updatedRows\": 102,\\n      \"updatedColumns\": 7,\\n      \"updatedCells\": 714\\n    }\\n  ]\\n}\\n'"
      ]
     },
     "execution_count": 168,
     "metadata": {},
     "output_type": "execute_result"
    }
   ],
   "source": [
    "def update_delay_time():\n",
    "    #update the new value for Ema after the gap time\n",
    "\n",
    "    delay_timeframe,delay_index=calculate_delay_time()\n",
    "    price=[]\n",
    "    date=[]\n",
    "    timestamp=[]\n",
    "    for i in delay_timeframe:\n",
    "        get=handle_ohlvc(exchange.fetch_ohlcv(symbol,i,limit=2))\n",
    "        price.append(get[type].values[0])\n",
    "        date.append(get['Date'].values[0])\n",
    "        timestamp.append(int(get['Timestamp'].values[0]))\n",
    "    data=[price for i in range(100)]\n",
    "    data.insert(0,timestamp)\n",
    "    data.insert(0,date)\n",
    "\n",
    "    write=sheet.write_value_spreadsheets(sheet_id,f'Ema_val!{delay_index[0]}:{delay_index[1]}',data)\n",
    "    return write\n"
   ]
  },
  {
   "cell_type": "code",
   "execution_count": 143,
   "metadata": {},
   "outputs": [
    {
     "data": {
      "text/plain": [
       "3347.64"
      ]
     },
     "execution_count": 143,
     "metadata": {},
     "output_type": "execute_result"
    }
   ],
   "source": [
    "handle_ohlvc(exchange.fetch_ohlcv(symbol,'1h',limit=2))[type].values[0]"
   ]
  },
  {
   "cell_type": "code",
   "execution_count": 3,
   "metadata": {},
   "outputs": [
    {
     "data": {
      "text/plain": [
       "array([1.        , 0.66666667, 0.5       , 0.4       , 0.33333333,\n",
       "       0.28571429, 0.25      , 0.22222222, 0.2       , 0.18181818,\n",
       "       0.16666667, 0.15384615, 0.14285714, 0.13333333, 0.125     ,\n",
       "       0.11764706, 0.11111111, 0.10526316, 0.1       , 0.0952381 ,\n",
       "       0.09090909, 0.08695652, 0.08333333, 0.08      , 0.07692308,\n",
       "       0.07407407, 0.07142857, 0.06896552, 0.06666667, 0.06451613,\n",
       "       0.0625    , 0.06060606, 0.05882353, 0.05714286, 0.05555556,\n",
       "       0.05405405, 0.05263158, 0.05128205, 0.05      , 0.04878049,\n",
       "       0.04761905, 0.04651163, 0.04545455, 0.04444444, 0.04347826,\n",
       "       0.04255319, 0.04166667, 0.04081633, 0.04      , 0.03921569,\n",
       "       0.03846154, 0.03773585, 0.03703704, 0.03636364, 0.03571429,\n",
       "       0.03508772, 0.03448276, 0.03389831, 0.03333333, 0.03278689,\n",
       "       0.03225806, 0.03174603, 0.03125   , 0.03076923, 0.03030303,\n",
       "       0.02985075, 0.02941176, 0.02898551, 0.02857143, 0.02816901,\n",
       "       0.02777778, 0.02739726, 0.02702703, 0.02666667, 0.02631579,\n",
       "       0.02597403, 0.02564103, 0.02531646, 0.025     , 0.02469136,\n",
       "       0.02439024, 0.02409639, 0.02380952, 0.02352941, 0.02325581,\n",
       "       0.02298851, 0.02272727, 0.02247191, 0.02222222, 0.02197802,\n",
       "       0.02173913, 0.02150538, 0.0212766 , 0.02105263, 0.02083333,\n",
       "       0.02061856, 0.02040816, 0.02020202, 0.02      , 0.01980198])"
      ]
     },
     "execution_count": 3,
     "metadata": {},
     "output_type": "execute_result"
    }
   ],
   "source": [
    "def Ema(l,symbol,timeframe,type='Close'):\n",
    "    #price=handle_ohlvc(exchange.fetch_ohlcv(symbol,timeframe,limit=l))[type]\n",
    "    #init=price.sum()/l\n",
    "    rate=np.array([2/(i+1) for i in range(1,101)])\n",
    "    return rate\n",
    "Ema(1,1,1)"
   ]
  },
  {
   "cell_type": "code",
   "execution_count": 8,
   "metadata": {},
   "outputs": [],
   "source": [
    "\n",
    "time={\n",
    "    '1m':60,\n",
    "    '3m':180,\n",
    "    '5m':300,\n",
    "    '15m':900,\n",
    "    '30m':1800,\n",
    "    '1h':3600,\n",
    "    '2h':7200,\n",
    "    '4h':14400,\n",
    "    '6h':21600,\n",
    "    '8h':28800,\n",
    "    '12h':43200,\n",
    "    '1d':86400\n",
    "    }"
   ]
  },
  {
   "cell_type": "code",
   "execution_count": 22,
   "metadata": {},
   "outputs": [
    {
     "data": {
      "text/html": [
       "<div>\n",
       "<style scoped>\n",
       "    .dataframe tbody tr th:only-of-type {\n",
       "        vertical-align: middle;\n",
       "    }\n",
       "\n",
       "    .dataframe tbody tr th {\n",
       "        vertical-align: top;\n",
       "    }\n",
       "\n",
       "    .dataframe thead th {\n",
       "        text-align: right;\n",
       "    }\n",
       "</style>\n",
       "<table border=\"1\" class=\"dataframe\">\n",
       "  <thead>\n",
       "    <tr style=\"text-align: right;\">\n",
       "      <th></th>\n",
       "      <th>Timestamp</th>\n",
       "      <th>Open</th>\n",
       "      <th>High</th>\n",
       "      <th>Low</th>\n",
       "      <th>Close</th>\n",
       "      <th>Volume</th>\n",
       "      <th>Date</th>\n",
       "    </tr>\n",
       "    <tr>\n",
       "      <th>Date</th>\n",
       "      <th></th>\n",
       "      <th></th>\n",
       "      <th></th>\n",
       "      <th></th>\n",
       "      <th></th>\n",
       "      <th></th>\n",
       "      <th></th>\n",
       "    </tr>\n",
       "  </thead>\n",
       "  <tbody>\n",
       "    <tr>\n",
       "      <th>2024-03-23 13:27:00</th>\n",
       "      <td>1711175220000</td>\n",
       "      <td>3330.56</td>\n",
       "      <td>3330.87</td>\n",
       "      <td>3330.56</td>\n",
       "      <td>3330.87</td>\n",
       "      <td>0.389</td>\n",
       "      <td>2024-03-23 13:27:00</td>\n",
       "    </tr>\n",
       "  </tbody>\n",
       "</table>\n",
       "</div>"
      ],
      "text/plain": [
       "                         Timestamp     Open     High      Low    Close  \\\n",
       "Date                                                                     \n",
       "2024-03-23 13:27:00  1711175220000  3330.56  3330.87  3330.56  3330.87   \n",
       "\n",
       "                     Volume                Date  \n",
       "Date                                             \n",
       "2024-03-23 13:27:00   0.389 2024-03-23 13:27:00  "
      ]
     },
     "execution_count": 22,
     "metadata": {},
     "output_type": "execute_result"
    }
   ],
   "source": [
    "start=dt.datetime.now().timestamp()\n",
    "u=exchange.fetch_ohlcv('ETHUSDT',timeframe='1m',limit=1)\n",
    "handle_ohlvc(u)"
   ]
  },
  {
   "cell_type": "code",
   "execution_count": 10,
   "metadata": {},
   "outputs": [
    {
     "ename": "KeyboardInterrupt",
     "evalue": "",
     "output_type": "error",
     "traceback": [
      "\u001b[1;31m---------------------------------------------------------------------------\u001b[0m",
      "\u001b[1;31mKeyboardInterrupt\u001b[0m                         Traceback (most recent call last)",
      "Cell \u001b[1;32mIn[10], line 5\u001b[0m\n\u001b[0;32m      3\u001b[0m \u001b[38;5;28;01mwhile\u001b[39;00m \u001b[38;5;28;01mTrue\u001b[39;00m:\n\u001b[0;32m      4\u001b[0m         n\u001b[38;5;241m=\u001b[39mdt\u001b[38;5;241m.\u001b[39mdatetime\u001b[38;5;241m.\u001b[39mnow()\n\u001b[1;32m----> 5\u001b[0m         \u001b[38;5;28;01mif\u001b[39;00m (\u001b[38;5;28;43mint\u001b[39;49m\u001b[43m(\u001b[49m\u001b[43mn\u001b[49m\u001b[38;5;241;43m.\u001b[39;49m\u001b[43mtimestamp\u001b[49m\u001b[43m(\u001b[49m\u001b[43m)\u001b[49m\u001b[43m)\u001b[49m\u001b[38;5;241m-\u001b[39mstandard_time)\u001b[38;5;241m%\u001b[39m\u001b[38;5;241m60\u001b[39m\u001b[38;5;241m==\u001b[39m\u001b[38;5;241m0\u001b[39m:\n\u001b[0;32m      6\u001b[0m             \u001b[38;5;28mprint\u001b[39m(n,n\u001b[38;5;241m.\u001b[39mtimestamp())\n\u001b[0;32m      7\u001b[0m             \u001b[38;5;28;01mbreak\u001b[39;00m\n",
      "\u001b[1;31mKeyboardInterrupt\u001b[0m: "
     ]
    }
   ],
   "source": [
    "standard_time=dt.datetime(2024,1,1,7,0).timestamp()\n",
    "\n",
    "while True:\n",
    "        n=dt.datetime.now()\n",
    "        if (int(n.timestamp())-standard_time)%60==0:\n",
    "            print(n,n.timestamp())\n",
    "            break\n",
    "while True:\n",
    "    sleep(60)\n",
    "    print(dt.datetime.now(),dt.datetime.now().timestamp())\n",
    "    "
   ]
  },
  {
   "cell_type": "code",
   "execution_count": 20,
   "metadata": {},
   "outputs": [
    {
     "data": {
      "text/plain": [
       "3367.8"
      ]
     },
     "execution_count": 20,
     "metadata": {},
     "output_type": "execute_result"
    }
   ],
   "source": [
    "handle_ohlvc(exchange.fetch_ohlcv(symbol,timeframe,limit=2))[type].values[0]"
   ]
  }
 ],
 "metadata": {
  "kernelspec": {
   "display_name": "Python 3",
   "language": "python",
   "name": "python3"
  },
  "language_info": {
   "codemirror_mode": {
    "name": "ipython",
    "version": 3
   },
   "file_extension": ".py",
   "mimetype": "text/x-python",
   "name": "python",
   "nbconvert_exporter": "python",
   "pygments_lexer": "ipython3",
   "version": "3.10.11"
  }
 },
 "nbformat": 4,
 "nbformat_minor": 2
}
